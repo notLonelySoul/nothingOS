{
 "cells": [
  {
   "cell_type": "code",
   "execution_count": 33,
   "metadata": {},
   "outputs": [
    {
     "name": "stdout",
     "output_type": "stream",
     "text": [
      "(44, 44, 44)\n"
     ]
    }
   ],
   "source": [
    "# Import Module\n",
    "from PIL import Image\n",
    "\n",
    "def most_common_used_color(img):\n",
    "\t# Get width and height of Image\n",
    "\twidth, height = img.size\n",
    "\n",
    "\t# Initialize Variable\n",
    "\tr_total = 0\n",
    "\tg_total = 0\n",
    "\tb_total = 0\n",
    "\n",
    "\tcount = 0\n",
    "\n",
    "\t# Iterate through each pixel\n",
    "\tfor x in range(0, width):\n",
    "\t\tfor y in range(0, height):\n",
    "\t\t\t# r,g,b value of pixel\n",
    "\t\t\tr, g, b = img.getpixel((x, y))\n",
    "\n",
    "\t\t\tr_total += r\n",
    "\t\t\tg_total += g\n",
    "\t\t\tb_total += b\n",
    "\t\t\tcount += 1\n",
    "\n",
    "\treturn (int(round(r_total/count, 0)), int(round(g_total/count, 0)), int(round(b_total/count, 0)))\n",
    "\n",
    "# Read Image\n",
    "img = Image.open(\"/home/bhuv/.cache/fabric/cover.png\")\n",
    "\n",
    "# Convert Image into RGB\n",
    "img = img.convert('RGB')\n",
    "\n",
    "# call function\n",
    "common_color = most_common_used_color(img)\n",
    "# Output is (R, G, B)\n",
    "\n",
    "print(common_color)\n"
   ]
  },
  {
   "cell_type": "code",
   "execution_count": null,
   "metadata": {},
   "outputs": [],
   "source": [
    "def get_accent(img):\n",
    "    width, height = img.size\n",
    "    rt, gt, bt = 0, 0, 0\n",
    "\n",
    "    for x in range(width):\n",
    "        for y in range(height):\n",
    "            r,g,b = img.getpixel(x, y)\n",
    "            \n",
    "            "
   ]
  },
  {
   "cell_type": "code",
   "execution_count": 1,
   "metadata": {},
   "outputs": [
    {
     "name": "stdout",
     "output_type": "stream",
     "text": [
      "1\n"
     ]
    }
   ],
   "source": [
    "import json\n",
    "\n",
    "\n",
    "with open(r\"/home/bhuv/.data/tasks.json\") as f:\n",
    "    s:dict = json.load(f)\n",
    "    print(max(s.keys()))"
   ]
  },
  {
   "cell_type": "code",
   "execution_count": null,
   "metadata": {},
   "outputs": [],
   "source": []
  }
 ],
 "metadata": {
  "kernelspec": {
   "display_name": "Python 3",
   "language": "python",
   "name": "python3"
  },
  "language_info": {
   "codemirror_mode": {
    "name": "ipython",
    "version": 3
   },
   "file_extension": ".py",
   "mimetype": "text/x-python",
   "name": "python",
   "nbconvert_exporter": "python",
   "pygments_lexer": "ipython3",
   "version": "3.12.3"
  }
 },
 "nbformat": 4,
 "nbformat_minor": 2
}
